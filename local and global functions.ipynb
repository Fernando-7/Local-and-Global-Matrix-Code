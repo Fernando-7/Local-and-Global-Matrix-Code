{
 "cells": [
  {
   "cell_type": "code",
   "execution_count": 5,
   "metadata": {},
   "outputs": [],
   "source": [
    "import numpy as np #Código de matriz global\n",
    "\n",
    "def Global(arquivo,arquivo2):\n",
    "    \n",
    "    arq = open(arquivo,'r')\n",
    "    arq2 = open(arquivo2,'r')\n",
    "    \n",
    "    cadeia = arq.read()\n",
    "    cadeia2 = arq2.read()\n",
    "    \n",
    "    for i in range(0,len(cadeia)):\n",
    "        matriz[i][0] = 0\n",
    "        mat_global[i][0] = cadeia[i]\n",
    "        \n",
    "    for i in range(0,len(cadeia2)):    \n",
    "        matriz[0][i] = 0\n",
    "        mat_global[i][0] = cadeia2[i]\n",
    "        \n",
    "    for i in range(1,len(cadeia)):\n",
    "        for j in range(1,len(cadeia2)):\n",
    "            if(cadeia[i] == cadeia2[j]):\n",
    "                match = 1\n",
    "            else:\n",
    "                match = 0\n",
    "            matriz[i][j] = max((matriz[i-1][j] - 1), (matriz[i-1][j-1] + match), (matriz[i][j-1] - 1))\n",
    "            mat_global[i][j] = str(matriz[i][j])\n",
    "            \n",
    "    return mat_global       "
   ]
  },
  {
   "cell_type": "code",
   "execution_count": 6,
   "metadata": {
    "collapsed": true
   },
   "outputs": [],
   "source": [
    "import numpy as np #Código de matriz local\n",
    "\n",
    "def Local(arquivo,arquivo2): # passamos os caminhos dos arquivos que estão as cadeias\n",
    "    \n",
    "    arq = open(arquivo,'r')\n",
    "    arq2 = open(arquivo2,'r')\n",
    "    \n",
    "    cadeia = arq.read()\n",
    "    cadeia2 = arq2.read()\n",
    "    \n",
    "    for i in range(0,len(cadeia)):\n",
    "        matriz[i][0] = 0\n",
    "        mat_local[i][0] = cadeia[i]\n",
    "        \n",
    "    for i in range(0,len(cadeia2)):    \n",
    "        matriz[0][i] = 0\n",
    "        mat_local[i][0] = cadeia2[i]\n",
    "        \n",
    "    for i in range(1,len(cadeia)):\n",
    "        for j in range(1,len(cadeia2)):\n",
    "            if(cadeia[i] == cadeia2[j]):\n",
    "                match = 1\n",
    "            else:\n",
    "                match = 0\n",
    "            matriz[i][j] = max((matriz[i-1][j] - 1), (matriz[i-1][j-1] + match), (matriz[i][j-1] - 1), 0)\n",
    "            mat_local[i][j] = str(matriz[i][j])\n",
    "            \n",
    "    return mat_local "
   ]
  },
  {
   "cell_type": "code",
   "execution_count": null,
   "metadata": {
    "collapsed": true
   },
   "outputs": [],
   "source": []
  }
 ],
 "metadata": {
  "kernelspec": {
   "display_name": "Python 3",
   "language": "python",
   "name": "python3"
  },
  "language_info": {
   "codemirror_mode": {
    "name": "ipython",
    "version": 3
   },
   "file_extension": ".py",
   "mimetype": "text/x-python",
   "name": "python",
   "nbconvert_exporter": "python",
   "pygments_lexer": "ipython3",
   "version": "3.6.3"
  }
 },
 "nbformat": 4,
 "nbformat_minor": 2
}
